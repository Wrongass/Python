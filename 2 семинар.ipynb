{
 "cells": [
  {
   "cell_type": "markdown",
   "metadata": {
    "toc": true
   },
   "source": [
    "<h1>Table of Contents<span class=\"tocSkip\"></span></h1>\n",
    "<div class=\"toc\"><ul class=\"toc-item\"></ul></div>"
   ]
  },
  {
   "cell_type": "code",
   "execution_count": 54,
   "metadata": {},
   "outputs": [
    {
     "name": "stdout",
     "output_type": "stream",
     "text": [
      "dddASFzx\n",
      "3 - D\n"
     ]
    }
   ],
   "source": [
    "import string\n",
    "text = input()\n",
    "text = text.upper()\n",
    "count = 0\n",
    "max = 0\n",
    "letter = ''\n",
    "for i in string.ascii_uppercase:\n",
    "    count = text.count(i)\n",
    "    if count > max:\n",
    "        max = count\n",
    "        letter = i\n",
    "print(max, '-', letter)\n"
   ]
  },
  {
   "cell_type": "markdown",
   "metadata": {
    "toc": true
   },
   "source": [
    "<h1>Задание 2<span class=\"tocSkip\"></span></h1>\n",
    "<div class=\"toc\"><ul class=\"toc-item\"></ul></div>"
   ]
  },
  {
   "cell_type": "code",
   "execution_count": 27,
   "metadata": {},
   "outputs": [
    {
     "name": "stdout",
     "output_type": "stream",
     "text": [
      "xczxc sadasd sadas\n",
      "есть последовательность\n"
     ]
    }
   ],
   "source": [
    "text = input()\n",
    "count = 0\n",
    "for i in text.split():\n",
    "    if i.isalpha():\n",
    "        count += 1\n",
    "    else:\n",
    "        count = 0\n",
    "    if count == 3:\n",
    "        print(\"есть последовательность\")\n",
    "        break;\n",
    "if count < 3:\n",
    "    print ('отсутствует последовательность')"
   ]
  },
  {
   "cell_type": "markdown",
   "metadata": {
    "toc": true
   },
   "source": [
    "<h1>Задание 3<span class=\"tocSkip\"></span></h1>\n",
    "<div class=\"toc\"><ul class=\"toc-item\"></ul></div>"
   ]
  },
  {
   "cell_type": "code",
   "execution_count": 52,
   "metadata": {},
   "outputs": [
    {
     "name": "stdout",
     "output_type": "stream",
     "text": [
      "dddffertsd\n",
      "3\n"
     ]
    }
   ],
   "source": [
    "text = input()\n",
    "count = 1\n",
    "max = 1\n",
    "for i in range(1,len(text)):\n",
    "    if text[i] == text[i-1]:\n",
    "        count += 1\n",
    "        if count > max:\n",
    "            max = count\n",
    "    else:\n",
    "        count = 1\n",
    "print(max)"
   ]
  },
  {
   "cell_type": "markdown",
   "metadata": {
    "toc": true
   },
   "source": [
    "<h1>Задание 4<span class=\"tocSkip\"></span></h1>\n",
    "<div class=\"toc\"><ul class=\"toc-item\"></ul></div>"
   ]
  },
  {
   "cell_type": "code",
   "execution_count": 55,
   "metadata": {},
   "outputs": [
    {
     "name": "stdout",
     "output_type": "stream",
     "text": [
      "cxcv`sdsd SD324 asSD sdfSD234sD\n",
      "SDSDSDD\n"
     ]
    }
   ],
   "source": [
    "text = input()\n",
    "string = ''\n",
    "for i in range(0,len(text)):\n",
    "    if text[i].isupper():\n",
    "        string += text[i]\n",
    "print(string)"
   ]
  },
  {
   "cell_type": "markdown",
   "metadata": {
    "toc": true
   },
   "source": [
    "<h1>Задание 5<span class=\"tocSkip\"></span></h1>\n",
    "<div class=\"toc\"><ul class=\"toc-item\"></ul></div>"
   ]
  },
  {
   "cell_type": "code",
   "execution_count": 75,
   "metadata": {},
   "outputs": [
    {
     "name": "stdout",
     "output_type": "stream",
     "text": [
      "23432\n",
      "['2', '2', '3', '3', '4']\n"
     ]
    }
   ],
   "source": [
    "mass = input()\n",
    "output = []\n",
    "count = 0\n",
    "for i,j in enumerate(mass):\n",
    "    if i == mass.index(j):\n",
    "        for count in range(mass.count(j)):\n",
    "            output.extend([j])\n",
    "print (output)"
   ]
  },
  {
   "cell_type": "markdown",
   "metadata": {
    "toc": true
   },
   "source": [
    "<h1>Задание 6<span class=\"tocSkip\"></span></h1>\n",
    "<div class=\"toc\"><ul class=\"toc-item\"></ul></div>"
   ]
  },
  {
   "cell_type": "code",
   "execution_count": 109,
   "metadata": {},
   "outputs": [
    {
     "name": "stdout",
     "output_type": "stream",
     "text": [
      "123789\n",
      "5\n",
      "ближайшее к  5 является 3\n"
     ]
    }
   ],
   "source": [
    "list1 = input()\n",
    "number = int(input())\n",
    "nearest = 0\n",
    "min = number\n",
    "for i in list1:\n",
    "    if min > abs(number-int(i)):\n",
    "        min = abs(number-int(i))\n",
    "        nearest = i\n",
    "    if min == abs(number-int(i)):\n",
    "        if nearest > i:\n",
    "            nearest = i\n",
    "print('ближайшее к', number, 'является', nearest)"
   ]
  },
  {
   "cell_type": "markdown",
   "metadata": {
    "toc": true
   },
   "source": [
    "<h1>Задание 7<span class=\"tocSkip\"></span></h1>\n",
    "<div class=\"toc\"><ul class=\"toc-item\"></ul></div>"
   ]
  },
  {
   "cell_type": "code",
   "execution_count": null,
   "metadata": {},
   "outputs": [],
   "source": []
  }
 ],
 "metadata": {
  "kernelspec": {
   "display_name": "Python 3",
   "language": "python",
   "name": "python3"
  },
  "language_info": {
   "codemirror_mode": {
    "name": "ipython",
    "version": 3
   },
   "file_extension": ".py",
   "mimetype": "text/x-python",
   "name": "python",
   "nbconvert_exporter": "python",
   "pygments_lexer": "ipython3",
   "version": "3.8.3"
  },
  "toc": {
   "base_numbering": 1,
   "nav_menu": {},
   "number_sections": true,
   "sideBar": true,
   "skip_h1_title": false,
   "title_cell": "Table of Contents",
   "title_sidebar": "Contents",
   "toc_cell": true,
   "toc_position": {},
   "toc_section_display": true,
   "toc_window_display": false
  }
 },
 "nbformat": 4,
 "nbformat_minor": 4
}
